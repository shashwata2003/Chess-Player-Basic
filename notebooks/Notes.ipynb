{
 "cells": [
  {
   "cell_type": "code",
   "execution_count": 1,
   "metadata": {},
   "outputs": [],
   "source": [
    "from wake.game import Game\n",
    "from wake.move import Move\n",
    "from wake.position import Position, generate_fen\n",
    "from wake.bitboard_helpers import pprint_pieces, pprint_bb, set_bit, make_uint64\n",
    "from wake.constants import Piece, Square, Color, square_map\n",
    "\n",
    "import numpy as np"
   ]
  },
  {
   "cell_type": "code",
   "execution_count": 2,
   "metadata": {},
   "outputs": [
    {
     "name": "stdout",
     "output_type": "stream",
     "text": [
      "8  ♜ ░ ♝ ♛ ░ ♝ ░ ♜\n",
      "7  ♟︎ ♟︎ ♟︎ ░ ░ ♚ ♟︎ ♟︎\n",
      "6  ░ ░ ♞ ░ ░ ░ ░ ░\n",
      "5  ░ ░ ░ ♞ ♟︎ ░ ░ ░\n",
      "4  ░ ░ ♗ ░ ░ ░ ░ ░\n",
      "3  ░ ░ ░ ░ ░ ♕ ░ ░\n",
      "2  ♙ ♙ ♙ ♙ ░ ♙ ♙ ♙\n",
      "1  ♖ ♘ ♗ ░ ♔ ░ ░ ♖\n",
      "   A B C D E F G H\n"
     ]
    }
   ],
   "source": [
    "position = Position()\n",
    "\n",
    "m_1 = Move(Piece.wP, (Square.E2, Square.E4))\n",
    "m_2 = Move(Piece.bP, (Square.E7, Square.E5))\n",
    "m_3 = Move(Piece.wN, (Square.G1, Square.F3))\n",
    "m_4 = Move(Piece.bN, (Square.B8, Square.C6))\n",
    "m_5 = Move(Piece.wB, (Square.F1, Square.C4))\n",
    "m_6 = Move(Piece.bN, (Square.G8, Square.F6))\n",
    "m_7 = Move(Piece.wN, (Square.F3, Square.G5))\n",
    "m_8 = Move(Piece.bP, (Square.D7, Square.D5))\n",
    "m_9 = Move(Piece.wP, (Square.E4, Square.D5))\n",
    "m_10 = Move(Piece.bN, (Square.F6, Square.D5))\n",
    "m_11 = Move(Piece.wN, (Square.G5, Square.F7))\n",
    "m_12 = Move(Piece.bK, (Square.E8, Square.F7))\n",
    "m_13 = Move(Piece.wQ, (Square.D1, Square.F3))\n",
    "\n",
    "position.make_move(m_1).fen\n",
    "position.make_move(m_2).fen\n",
    "position.make_move(m_3).fen\n",
    "position.make_move(m_4).fen\n",
    "position.make_move(m_5).fen\n",
    "position.make_move(m_6).fen\n",
    "position.make_move(m_7).fen\n",
    "position.make_move(m_8).fen\n",
    "position.make_move(m_9).fen\n",
    "position.make_move(m_10).fen\n",
    "position.make_move(m_11).fen\n",
    "position.make_move(m_12).fen\n",
    "position.make_move(m_13).fen\n",
    "\n",
    "pprint_pieces(position.piece_map)"
   ]
  },
  {
   "cell_type": "code",
   "execution_count": 3,
   "metadata": {},
   "outputs": [
    {
     "name": "stdout",
     "output_type": "stream",
     "text": [
      "Checkmate\n",
      "8  ░ ♜ ♝ ░ ░ ♝ ♚ ░\n",
      "7  ♟︎ ♟︎ ♟︎ ░ ░ ░ ♟︎ ♟︎\n",
      "6  ░ ░ ♞ ░ ░ ░ ░ ░\n",
      "5  ░ ░ ░ ♗ ♟︎ ░ ░ ░\n",
      "4  ░ ░ ░ ░ ░ ░ ░ ♛\n",
      "3  ░ ░ ░ ░ ░ ♕ ░ ░\n",
      "2  ♙ ♙ ♙ ♙ ░ ♙ ♙ ♙\n",
      "1  ♖ ♘ ♗ ░ ♔ ░ ░ ♖\n",
      "   A B C D E F G H\n"
     ]
    }
   ],
   "source": [
    "m_14 = Move(Piece.bK, (Square.F7, Square.G8))\n",
    "m_15 = Move(Piece.wB, (Square.C4, Square.D5))\n",
    "position.make_move(m_14).fen\n",
    "position.make_move(m_15).fen\n",
    "\n",
    "pprint_pieces(position.piece_map)"
   ]
  },
  {
   "cell_type": "code",
   "execution_count": null,
   "metadata": {},
   "outputs": [],
   "source": []
  }
 ],
 "metadata": {
  "kernelspec": {
   "display_name": "Python 3",
   "language": "python",
   "name": "python3"
  },
  "language_info": {
   "codemirror_mode": {
    "name": "ipython",
    "version": 3
   },
   "file_extension": ".py",
   "mimetype": "text/x-python",
   "name": "python",
   "nbconvert_exporter": "python",
   "pygments_lexer": "ipython3",
   "version": "3.8.5"
  }
 },
 "nbformat": 4,
 "nbformat_minor": 4
}
